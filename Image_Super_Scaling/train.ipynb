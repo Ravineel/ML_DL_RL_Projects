{
 "cells": [
  {
   "cell_type": "markdown",
   "metadata": {},
   "source": [
    "\n",
    "<h1 align=center> Image Super Resolution using Autoencoders</h1>"
   ]
  },
  {
   "cell_type": "markdown",
   "metadata": {},
   "source": [
    " "
   ]
  },
  {
   "cell_type": "markdown",
   "metadata": {},
   "source": [
    "<img src=\"images/high_res_v_low_res.jpg\" width=550px>"
   ]
  },
  {
   "cell_type": "markdown",
   "metadata": {},
   "source": [
    "## Task 1: Project Overview and Import Libraries"
   ]
  },
  {
   "cell_type": "code",
   "execution_count": 1,
   "metadata": {
    "tags": []
   },
   "outputs": [
    {
     "output_type": "stream",
     "name": "stdout",
     "text": "2.2.0\n"
    }
   ],
   "source": [
    "import os\n",
    "import re\n",
    "from scipy import ndimage, misc\n",
    "from skimage.transform import resize, rescale\n",
    "from matplotlib import pyplot\n",
    "import matplotlib.pyplot as plt\n",
    "import numpy as np\n",
    "np.random.seed(0)\n",
    "\n",
    "from tensorflow.keras.layers import Input, Dense, Conv2D, MaxPooling2D, Dropout\n",
    "from tensorflow.keras.layers import Conv2DTranspose, UpSampling2D, add\n",
    "from tensorflow.keras.models import Model\n",
    "from tensorflow.keras import regularizers\n",
    "import tensorflow as tf\n",
    "print(tf.__version__)"
   ]
  },
  {
   "cell_type": "code",
   "execution_count": null,
   "metadata": {},
   "outputs": [],
   "source": []
  },
  {
   "cell_type": "markdown",
   "metadata": {},
   "source": [
    "## Task 2: What are Autoencoders?"
   ]
  },
  {
   "cell_type": "markdown",
   "metadata": {},
   "source": [
    "<img src=\"images/autoencoder.jpg\">\n",
    "Credit: Autoencoder Schema by <a href=\"https://blog.keras.io/img/ae/autoencoder_schema.jpg\">Francois Chollet, 2016</a>."
   ]
  },
  {
   "cell_type": "markdown",
   "metadata": {},
   "source": [
    "<h4 align=center>Encoder Architecture</h4>\n",
    "<img src=\"/home/ravineel/Desktop/Github/MDR_Projects/Image_Super_Scaling/Imageencoder.png\" width=450px align=center>"
   ]
  },
  {
   "cell_type": "markdown",
   "metadata": {},
   "source": [
    "## Task 3: Build the Encoder"
   ]
  },
  {
   "cell_type": "code",
   "execution_count": 2,
   "metadata": {},
   "outputs": [],
   "source": [
    "input_img = Input(shape=(256,256,3))\n",
    "l1 = Conv2D(64,(3,3),padding='same',activation='relu',activity_regularizer=regularizers.l1(10e-10))(input_img)\n",
    "l2 = Conv2D(64,(3,3),padding='same',activation='relu',activity_regularizer=regularizers.l1(10e-10))(l1)\n",
    "l3 = MaxPooling2D(padding='same')(l2)\n",
    "l4 = Conv2D(128,(3,3),padding='same',activation='relu',activity_regularizer=regularizers.l1(10e-10))(l3)\n",
    "l5 = Conv2D(128,(3,3),padding='same',activation='relu',activity_regularizer=regularizers.l1(10e-10))(l4) \n",
    "l6 = MaxPooling2D(padding='same')(l5)\n",
    "l7 =Conv2D(256,(3,3),padding='same',activation='relu',activity_regularizer=regularizers.l1(10e-10))(l6) \n",
    "encoder = Model(input_img,l7,name=\"Encoder\")"
   ]
  },
  {
   "cell_type": "code",
   "execution_count": 3,
   "metadata": {
    "tags": []
   },
   "outputs": [
    {
     "output_type": "stream",
     "name": "stdout",
     "text": "Model: \"Encoder\"\n_________________________________________________________________\nLayer (type)                 Output Shape              Param #   \n=================================================================\ninput_1 (InputLayer)         [(None, 256, 256, 3)]     0         \n_________________________________________________________________\nconv2d (Conv2D)              (None, 256, 256, 64)      1792      \n_________________________________________________________________\nconv2d_1 (Conv2D)            (None, 256, 256, 64)      36928     \n_________________________________________________________________\nmax_pooling2d (MaxPooling2D) (None, 128, 128, 64)      0         \n_________________________________________________________________\nconv2d_2 (Conv2D)            (None, 128, 128, 128)     73856     \n_________________________________________________________________\nconv2d_3 (Conv2D)            (None, 128, 128, 128)     147584    \n_________________________________________________________________\nmax_pooling2d_1 (MaxPooling2 (None, 64, 64, 128)       0         \n_________________________________________________________________\nconv2d_4 (Conv2D)            (None, 64, 64, 256)       295168    \n=================================================================\nTotal params: 555,328\nTrainable params: 555,328\nNon-trainable params: 0\n_________________________________________________________________\n"
    }
   ],
   "source": [
    "encoder.summary()"
   ]
  },
  {
   "cell_type": "markdown",
   "metadata": {},
   "source": [
    "## Task 4: Build the Decoder to Complete the Network"
   ]
  },
  {
   "cell_type": "markdown",
   "metadata": {},
   "source": [
    "<img src=\"images/decoder.png\" width=450px>"
   ]
  },
  {
   "cell_type": "code",
   "execution_count": 4,
   "metadata": {},
   "outputs": [],
   "source": [
    "input_img = Input(shape=(256,256,3))\n",
    "l1 = Conv2D(64,(3,3),padding='same',activation='relu',activity_regularizer=regularizers.l1(10e-10))(input_img)\n",
    "l2 = Conv2D(64,(3,3),padding='same',activation='relu',activity_regularizer=regularizers.l1(10e-10))(l1)\n",
    "l3 = MaxPooling2D(padding='same')(l2)\n",
    "l4 = Conv2D(128,(3,3),padding='same',activation='relu',activity_regularizer=regularizers.l1(10e-10))(l3)\n",
    "l5 = Conv2D(128,(3,3),padding='same',activation='relu',activity_regularizer=regularizers.l1(10e-10))(l4) \n",
    "l6 = MaxPooling2D(padding='same')(l5)\n",
    "l7 =Conv2D(256,(3,3),padding='same',activation='relu',activity_regularizer=regularizers.l1(10e-10))(l6) "
   ]
  },
  {
   "cell_type": "code",
   "execution_count": 5,
   "metadata": {
    "tags": []
   },
   "outputs": [
    {
     "output_type": "stream",
     "name": "stdout",
     "text": "Model: \"Autoencoder\"\n__________________________________________________________________________________________________\nLayer (type)                    Output Shape         Param #     Connected to                     \n==================================================================================================\ninput_2 (InputLayer)            [(None, 256, 256, 3) 0                                            \n__________________________________________________________________________________________________\nconv2d_5 (Conv2D)               (None, 256, 256, 64) 1792        input_2[0][0]                    \n__________________________________________________________________________________________________\nconv2d_6 (Conv2D)               (None, 256, 256, 64) 36928       conv2d_5[0][0]                   \n__________________________________________________________________________________________________\nmax_pooling2d_2 (MaxPooling2D)  (None, 128, 128, 64) 0           conv2d_6[0][0]                   \n__________________________________________________________________________________________________\nconv2d_7 (Conv2D)               (None, 128, 128, 128 73856       max_pooling2d_2[0][0]            \n__________________________________________________________________________________________________\nconv2d_8 (Conv2D)               (None, 128, 128, 128 147584      conv2d_7[0][0]                   \n__________________________________________________________________________________________________\nmax_pooling2d_3 (MaxPooling2D)  (None, 64, 64, 128)  0           conv2d_8[0][0]                   \n__________________________________________________________________________________________________\nconv2d_9 (Conv2D)               (None, 64, 64, 256)  295168      max_pooling2d_3[0][0]            \n__________________________________________________________________________________________________\nup_sampling2d (UpSampling2D)    (None, 128, 128, 256 0           conv2d_9[0][0]                   \n__________________________________________________________________________________________________\nconv2d_10 (Conv2D)              (None, 128, 128, 128 295040      up_sampling2d[0][0]              \n__________________________________________________________________________________________________\nconv2d_11 (Conv2D)              (None, 128, 128, 128 147584      conv2d_10[0][0]                  \n__________________________________________________________________________________________________\nadd (Add)                       (None, 128, 128, 128 0           conv2d_8[0][0]                   \n                                                                 conv2d_11[0][0]                  \n__________________________________________________________________________________________________\nup_sampling2d_1 (UpSampling2D)  (None, 256, 256, 128 0           add[0][0]                        \n__________________________________________________________________________________________________\nconv2d_12 (Conv2D)              (None, 256, 256, 64) 73792       up_sampling2d_1[0][0]            \n__________________________________________________________________________________________________\nconv2d_13 (Conv2D)              (None, 256, 256, 64) 36928       conv2d_12[0][0]                  \n__________________________________________________________________________________________________\nadd_1 (Add)                     (None, 256, 256, 64) 0           conv2d_13[0][0]                  \n                                                                 conv2d_6[0][0]                   \n__________________________________________________________________________________________________\nconv2d_14 (Conv2D)              (None, 256, 256, 3)  1731        add_1[0][0]                      \n==================================================================================================\nTotal params: 1,110,403\nTrainable params: 1,110,403\nNon-trainable params: 0\n__________________________________________________________________________________________________\n"
    }
   ],
   "source": [
    "l8 =  UpSampling2D()(l7)\n",
    "l9 =  Conv2D(128,(3,3),padding='same',activation='relu',activity_regularizer=regularizers.l1(10e-10))(l8)\n",
    "l10 =  Conv2D(128,(3,3),padding='same',activation='relu',activity_regularizer=regularizers.l1(10e-10))(l9)\n",
    "l11 = add([l5,l10])\n",
    "l12 =  UpSampling2D()(l11)\n",
    "l13 =  Conv2D(64,(3,3),padding='same',activation='relu',activity_regularizer=regularizers.l1(10e-10))(l12)\n",
    "l14 =  Conv2D(64,(3,3),padding='same',activation='relu',activity_regularizer=regularizers.l1(10e-10))(l13)\n",
    "l15 = add([l14,l2])\n",
    "decoder = Conv2D(3,(3,3),padding='same',activity_regularizer=regularizers.l1(10e-10),activation='relu')(l15)\n",
    "autoencoder =Model(input_img,decoder,name=\"Autoencoder\")\n",
    "autoencoder.summary()"
   ]
  },
  {
   "cell_type": "code",
   "execution_count": 6,
   "metadata": {},
   "outputs": [],
   "source": [
    "autoencoder.compile(optimizer='adadelta', loss='mean_squared_error')"
   ]
  },
  {
   "cell_type": "code",
   "execution_count": null,
   "metadata": {},
   "outputs": [],
   "source": []
  },
  {
   "cell_type": "markdown",
   "metadata": {},
   "source": [
    "## Task 5: Create Dataset and Specify Training Routine"
   ]
  },
  {
   "cell_type": "code",
   "execution_count": 7,
   "metadata": {
    "scrolled": true
   },
   "outputs": [],
   "source": [
    "def train_batches(just_load_dataset=False):\n",
    "\n",
    "    batches = 256 \n",
    "\n",
    "    batch = 0 \n",
    "    batch_nb = 0 \n",
    "    max_batches = -1 \n",
    "    \n",
    "    ep = 4 \n",
    "\n",
    "    images = []\n",
    "    x_train_n = []\n",
    "    x_train_down = []\n",
    "    \n",
    "    x_train_n2 = [] \n",
    "    x_train_down2 = []\n",
    "    \n",
    "    for root, dirnames, filenames in os.walk(\"/home/ravineel/Desktop/Github/MDR_Projects/Image_Super_Scaling/Data\"):\n",
    "        for filename in filenames:\n",
    "            if re.search(\"\\.(jpg|jpeg|JPEG|png|bmp|tiff)$\", filename):\n",
    "                if batch_nb == max_batches: \n",
    "                    return x_train_n2, x_train_down2\n",
    "                filepath = os.path.join(root, filename)\n",
    "                image = pyplot.imread(filepath)\n",
    "                if len(image.shape) > 2:\n",
    "                        \n",
    "                    image_resized = resize(image, (256, 256))\n",
    "                    x_train_n.append(image_resized)\n",
    "                    x_train_down.append(rescale(rescale(image_resized, 2.0), 0.5))\n",
    "                    batch += 1\n",
    "                    if batch == batches:\n",
    "                        batch_nb += 1\n",
    "\n",
    "                        x_train_n2 = np.array(x_train_n)\n",
    "                        x_train_down2 = np.array(x_train_down)\n",
    "                        \n",
    "                        if just_load_dataset:\n",
    "                            return x_train_n2, x_train_down2\n",
    "                        \n",
    "                        print('Training batch', batch_nb, '(', batches, ')')\n",
    "\n",
    "                        autoencoder.fit(x_train_down2, x_train_n2,\n",
    "                            epochs=ep,\n",
    "                            batch_size=10,\n",
    "                            shuffle=True,\n",
    "                            validation_split=0.15,  )\n",
    "                    \n",
    "                        x_train_n = []\n",
    "                        x_train_down = []\n",
    "                    \n",
    "                        batch = 0\n",
    "\n",
    "    return x_train_n2, x_train_down2"
   ]
  },
  {
   "cell_type": "code",
   "execution_count": null,
   "metadata": {},
   "outputs": [],
   "source": []
  },
  {
   "cell_type": "markdown",
   "metadata": {},
   "source": [
    "## Task 6: Load the Dataset and Pre-trained Model"
   ]
  },
  {
   "cell_type": "code",
   "execution_count": 18,
   "metadata": {
    "tags": []
   },
   "outputs": [
    {
     "output_type": "stream",
     "name": "stdout",
     "text": "Training batch 1 ( 256 )\nEpoch 1/4\n22/22 [==============================] - 193s 9s/step - loss: 0.0070 - val_loss: 0.0060\nEpoch 2/4\n22/22 [==============================] - 189s 9s/step - loss: 0.0067 - val_loss: 0.0057\nEpoch 3/4\n22/22 [==============================] - 190s 9s/step - loss: 0.0064 - val_loss: 0.0055\nEpoch 4/4\n14/22 [==================>...........] - ETA: 1:05 - loss: 0.0061"
    }
   ],
   "source": [
    "x_train_n, x_train_down = train_batches(just_load_dataset=True)"
   ]
  },
  {
   "cell_type": "code",
   "execution_count": null,
   "metadata": {},
   "outputs": [],
   "source": [
    "autoencoder.load_weights(\"/home/ravineel/Desktop/Github/MDR_Projects/Image_Super_Scaling/Data/sr.img_net.mse.final_model5.no_patch.weights.best.hdf5\")"
   ]
  },
  {
   "cell_type": "markdown",
   "metadata": {},
   "source": [
    "## Task 7: Model Predictions and Visualizing the Results"
   ]
  },
  {
   "cell_type": "code",
   "execution_count": null,
   "metadata": {},
   "outputs": [],
   "source": [
    "encoder.load_weights('/home/ravineel/Desktop/Github/MDR_Projects/Image_Super_Scaling/Data/encoder_weights.hdf5')"
   ]
  },
  {
   "cell_type": "code",
   "execution_count": null,
   "metadata": {
    "tags": []
   },
   "outputs": [],
   "source": [
    "encoded_img= encoder.predict(x_train_down)"
   ]
  },
  {
   "cell_type": "code",
   "execution_count": null,
   "metadata": {},
   "outputs": [],
   "source": [
    "encoded_img.shape"
   ]
  },
  {
   "cell_type": "code",
   "execution_count": null,
   "metadata": {
    "tags": []
   },
   "outputs": [],
   "source": [
    "sr1 = np.clip(autoencoder.predict(x_train_down),0.0,1.0)"
   ]
  },
  {
   "cell_type": "code",
   "execution_count": null,
   "metadata": {},
   "outputs": [],
   "source": [
    "image_index= 20"
   ]
  },
  {
   "cell_type": "code",
   "execution_count": null,
   "metadata": {},
   "outputs": [],
   "source": [
    "plt.figure(figsize=(128,128))\n",
    "i=1\n",
    "ax = plt.subplot(10,10 ,i)\n",
    "plt.imshow(x_train_down[image_index])\n",
    "i=i+1\n",
    "ax = plt.subplot(10,10 ,i)\n",
    "plt.imshow(x_train_down[image_index], interpolation='bicubic')\n",
    "i=i+1\n",
    "ax = plt.subplot(10,10 ,i)\n",
    "plt.imshow(encoded_img[image_index].reshape((64*64,256)))\n",
    "i=i+1\n",
    "ax = plt.subplot(10,10 ,i)\n",
    "plt.imshow(sr1[image_index])\n",
    "i=i+1\n",
    "ax = plt.subplot(10,10 ,i)\n",
    "plt.imshow(x_train_n[image_index])\n",
    "plt.show()"
   ]
  },
  {
   "cell_type": "code",
   "execution_count": null,
   "metadata": {},
   "outputs": [],
   "source": []
  }
 ],
 "metadata": {
  "kernelspec": {
   "display_name": "Python 3.8.2 64-bit",
   "language": "python",
   "name": "python_defaultSpec_1599207492160"
  },
  "language_info": {
   "codemirror_mode": {
    "name": "ipython",
    "version": 2
   },
   "file_extension": ".py",
   "mimetype": "text/x-python",
   "name": "python",
   "nbconvert_exporter": "python",
   "pygments_lexer": "ipython2",
   "version": "3.8.2-final"
  }
 },
 "nbformat": 4,
 "nbformat_minor": 2
}