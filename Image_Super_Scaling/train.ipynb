{
 "cells": [
  {
   "cell_type": "markdown",
   "metadata": {},
   "source": [
    "\n",
    "<h1 align=center> Image Super Resolution using Autoencoders</h1>"
   ]
  },
  {
   "cell_type": "markdown",
   "metadata": {},
   "source": [
    " "
   ]
  },
  {
   "cell_type": "markdown",
   "metadata": {},
   "source": [
    "<img src=\"images/high_res_v_low_res.jpg\" width=550px>"
   ]
  },
  {
   "cell_type": "markdown",
   "metadata": {},
   "source": [
    "## Task 1: Project Overview and Import Libraries"
   ]
  },
  {
   "cell_type": "code",
   "execution_count": 26,
   "metadata": {
    "tags": []
   },
   "outputs": [
    {
     "output_type": "stream",
     "name": "stdout",
     "text": "2.2.0\n"
    }
   ],
   "source": [
    "import os\n",
    "import re\n",
    "from scipy import ndimage, misc\n",
    "from skimage.transform import resize, rescale\n",
    "from matplotlib import pyplot\n",
    "import matplotlib.pyplot as plt\n",
    "import numpy as np\n",
    "np.random.seed(0)\n",
    "\n",
    "from tensorflow.keras.layers import Input, Dense, Conv2D, MaxPooling2D, Dropout\n",
    "from tensorflow.keras.layers import Conv2DTranspose, UpSampling2D, add\n",
    "from tensorflow.keras.models import Model\n",
    "from tensorflow.keras import regularizers\n",
    "import tensorflow as tf\n",
    "print(tf.__version__)"
   ]
  },
  {
   "cell_type": "code",
   "execution_count": null,
   "metadata": {},
   "outputs": [],
   "source": []
  },
  {
   "cell_type": "markdown",
   "metadata": {},
   "source": [
    "## Task 2: What are Autoencoders?"
   ]
  },
  {
   "cell_type": "markdown",
   "metadata": {},
   "source": [
    "<img src=\"images/autoencoder.jpg\">\n",
    "Credit: Autoencoder Schema by <a href=\"https://blog.keras.io/img/ae/autoencoder_schema.jpg\">Francois Chollet, 2016</a>."
   ]
  },
  {
   "cell_type": "markdown",
   "metadata": {},
   "source": [
    "<h4 align=center>Encoder Architecture</h4>\n",
    "<img src=\"images/encoder.png\" width=450px align=center>"
   ]
  },
  {
   "cell_type": "markdown",
   "metadata": {},
   "source": [
    "## Task 3: Build the Encoder"
   ]
  },
  {
   "cell_type": "code",
   "execution_count": 27,
   "metadata": {},
   "outputs": [],
   "source": [
    "input_img = Input(shape=(256,256,3))\n",
    "l1 = Conv2D(64,(3,3),padding='same',activation='relu',activity_regularizer=regularizers.l1(10e-10))(input_img)\n",
    "l2 = Conv2D(64,(3,3),padding='same',activation='relu',activity_regularizer=regularizers.l1(10e-10))(l1)\n",
    "l3 = MaxPooling2D(padding='same')(l2)\n",
    "l4 = Conv2D(128,(3,3),padding='same',activation='relu',activity_regularizer=regularizers.l1(10e-10))(l3)\n",
    "l5 = Conv2D(128,(3,3),padding='same',activation='relu',activity_regularizer=regularizers.l1(10e-10))(l4) \n",
    "l6 = MaxPooling2D(padding='same')(l5)\n",
    "l7 =Conv2D(256,(3,3),padding='same',activation='relu',activity_regularizer=regularizers.l1(10e-10))(l6) \n",
    "encoder = Model(input_img,l7,name=\"Encoder\")"
   ]
  },
  {
   "cell_type": "code",
   "execution_count": 28,
   "metadata": {
    "tags": []
   },
   "outputs": [
    {
     "output_type": "stream",
     "name": "stdout",
     "text": "Model: \"Encoder\"\n_________________________________________________________________\nLayer (type)                 Output Shape              Param #   \n=================================================================\ninput_8 (InputLayer)         [(None, 256, 256, 3)]     0         \n_________________________________________________________________\nconv2d_53 (Conv2D)           (None, 256, 256, 64)      1792      \n_________________________________________________________________\nconv2d_54 (Conv2D)           (None, 256, 256, 64)      36928     \n_________________________________________________________________\nmax_pooling2d_14 (MaxPooling (None, 128, 128, 64)      0         \n_________________________________________________________________\nconv2d_55 (Conv2D)           (None, 128, 128, 128)     73856     \n_________________________________________________________________\nconv2d_56 (Conv2D)           (None, 128, 128, 128)     147584    \n_________________________________________________________________\nmax_pooling2d_15 (MaxPooling (None, 64, 64, 128)       0         \n_________________________________________________________________\nconv2d_57 (Conv2D)           (None, 64, 64, 256)       295168    \n=================================================================\nTotal params: 555,328\nTrainable params: 555,328\nNon-trainable params: 0\n_________________________________________________________________\n"
    }
   ],
   "source": [
    "encoder.summary()"
   ]
  },
  {
   "cell_type": "markdown",
   "metadata": {},
   "source": [
    "## Task 4: Build the Decoder to Complete the Network"
   ]
  },
  {
   "cell_type": "markdown",
   "metadata": {},
   "source": [
    "<img src=\"images/decoder.png\" width=450px>"
   ]
  },
  {
   "cell_type": "code",
   "execution_count": 29,
   "metadata": {},
   "outputs": [],
   "source": [
    "input_img = Input(shape=(256,256,3))\n",
    "l1 = Conv2D(64,(3,3),padding='same',activation='relu',activity_regularizer=regularizers.l1(10e-10))(input_img)\n",
    "l2 = Conv2D(64,(3,3),padding='same',activation='relu',activity_regularizer=regularizers.l1(10e-10))(l1)\n",
    "l3 = MaxPooling2D(padding='same')(l2)\n",
    "l4 = Conv2D(128,(3,3),padding='same',activation='relu',activity_regularizer=regularizers.l1(10e-10))(l3)\n",
    "l5 = Conv2D(128,(3,3),padding='same',activation='relu',activity_regularizer=regularizers.l1(10e-10))(l4) \n",
    "l6 = MaxPooling2D(padding='same')(l5)\n",
    "l7 =Conv2D(256,(3,3),padding='same',activation='relu',activity_regularizer=regularizers.l1(10e-10))(l6) "
   ]
  },
  {
   "cell_type": "code",
   "execution_count": 30,
   "metadata": {
    "tags": []
   },
   "outputs": [
    {
     "output_type": "stream",
     "name": "stdout",
     "text": "Model: \"Autoencoder\"\n__________________________________________________________________________________________________\nLayer (type)                    Output Shape         Param #     Connected to                     \n==================================================================================================\ninput_9 (InputLayer)            [(None, 256, 256, 3) 0                                            \n__________________________________________________________________________________________________\nconv2d_58 (Conv2D)              (None, 256, 256, 64) 1792        input_9[0][0]                    \n__________________________________________________________________________________________________\nconv2d_59 (Conv2D)              (None, 256, 256, 64) 36928       conv2d_58[0][0]                  \n__________________________________________________________________________________________________\nmax_pooling2d_16 (MaxPooling2D) (None, 128, 128, 64) 0           conv2d_59[0][0]                  \n__________________________________________________________________________________________________\nconv2d_60 (Conv2D)              (None, 128, 128, 128 73856       max_pooling2d_16[0][0]           \n__________________________________________________________________________________________________\nconv2d_61 (Conv2D)              (None, 128, 128, 128 147584      conv2d_60[0][0]                  \n__________________________________________________________________________________________________\nmax_pooling2d_17 (MaxPooling2D) (None, 64, 64, 128)  0           conv2d_61[0][0]                  \n__________________________________________________________________________________________________\nconv2d_62 (Conv2D)              (None, 64, 64, 256)  295168      max_pooling2d_17[0][0]           \n__________________________________________________________________________________________________\nup_sampling2d_9 (UpSampling2D)  (None, 128, 128, 256 0           conv2d_62[0][0]                  \n__________________________________________________________________________________________________\nconv2d_63 (Conv2D)              (None, 128, 128, 256 590080      up_sampling2d_9[0][0]            \n__________________________________________________________________________________________________\nconv2d_64 (Conv2D)              (None, 128, 128, 128 295040      conv2d_63[0][0]                  \n__________________________________________________________________________________________________\nadd_9 (Add)                     (None, 128, 128, 128 0           conv2d_61[0][0]                  \n                                                                 conv2d_64[0][0]                  \n__________________________________________________________________________________________________\nup_sampling2d_10 (UpSampling2D) (None, 256, 256, 128 0           add_9[0][0]                      \n__________________________________________________________________________________________________\nconv2d_65 (Conv2D)              (None, 256, 256, 64) 73792       up_sampling2d_10[0][0]           \n__________________________________________________________________________________________________\nconv2d_66 (Conv2D)              (None, 256, 256, 64) 36928       conv2d_65[0][0]                  \n__________________________________________________________________________________________________\nadd_10 (Add)                    (None, 256, 256, 64) 0           conv2d_66[0][0]                  \n                                                                 conv2d_59[0][0]                  \n__________________________________________________________________________________________________\nconv2d_67 (Conv2D)              (None, 256, 256, 3)  1731        add_10[0][0]                     \n==================================================================================================\nTotal params: 1,552,899\nTrainable params: 1,552,899\nNon-trainable params: 0\n__________________________________________________________________________________________________\n"
    }
   ],
   "source": [
    "l8 =  UpSampling2D()(l7)\n",
    "l9 =  Conv2D(256,(3,3),padding='same',activation='relu',activity_regularizer=regularizers.l1(10e-10))(l8)\n",
    "l10 =  Conv2D(128,(3,3),padding='same',activation='relu',activity_regularizer=regularizers.l1(10e-10))(l9)\n",
    "l11 = add([l5,l10])\n",
    "l12 =  UpSampling2D()(l11)\n",
    "l13 =  Conv2D(64,(3,3),padding='same',activation='relu',activity_regularizer=regularizers.l1(10e-10))(l12)\n",
    "l14 =  Conv2D(64,(3,3),padding='same',activation='relu',activity_regularizer=regularizers.l1(10e-10))(l13)\n",
    "l15 = add([l14,l2])\n",
    "decoder = Conv2D(3,(3,3),padding='same',activity_regularizer=regularizers.l1(10e-10),activation='relu')(l15)\n",
    "autoencoder =Model(input_img,decoder,name=\"Autoencoder\")\n",
    "autoencoder.summary()"
   ]
  },
  {
   "cell_type": "code",
   "execution_count": 32,
   "metadata": {},
   "outputs": [],
   "source": [
    "autoencoder.compile(optimizer='adadelta', loss='mean_squared_error')"
   ]
  },
  {
   "cell_type": "code",
   "execution_count": null,
   "metadata": {},
   "outputs": [],
   "source": []
  },
  {
   "cell_type": "markdown",
   "metadata": {},
   "source": [
    "## Task 5: Create Dataset and Specify Training Routine"
   ]
  },
  {
   "cell_type": "code",
   "execution_count": 31,
   "metadata": {
    "scrolled": true
   },
   "outputs": [],
   "source": [
    "def train_batches(just_load_dataset=False):\n",
    "\n",
    "    batches = 256 \n",
    "\n",
    "    batch = 0 \n",
    "    batch_nb = 0 \n",
    "    max_batches = -1 \n",
    "    \n",
    "    ep = 4 \n",
    "\n",
    "    images = []\n",
    "    x_train_n = []\n",
    "    x_train_down = []\n",
    "    \n",
    "    x_train_n2 = [] \n",
    "    x_train_down2 = []\n",
    "    \n",
    "    for root, dirnames, filenames in os.walk(\"./data/cars_train\"):\n",
    "        for filename in filenames:\n",
    "            if re.search(\"\\.(jpg|jpeg|JPEG|png|bmp|tiff)$\", filename):\n",
    "                if batch_nb == max_batches: \n",
    "                    return x_train_n2, x_train_down2\n",
    "                filepath = os.path.join(root, filename)\n",
    "                image = pyplot.imread(filepath)\n",
    "                if len(image.shape) > 2:\n",
    "                        \n",
    "                    image_resized = resize(image, (256, 256))\n",
    "                    x_train_n.append(image_resized)\n",
    "                    x_train_down.append(rescale(rescale(image_resized, 0.5), 2.0))\n",
    "                    batch += 1\n",
    "                    if batch == batches:\n",
    "                        batch_nb += 1\n",
    "\n",
    "                        x_train_n2 = np.array(x_train_n)\n",
    "                        x_train_down2 = np.array(x_train_down)\n",
    "                        \n",
    "                        if just_load_dataset:\n",
    "                            return x_train_n2, x_train_down2\n",
    "                        \n",
    "                        print('Training batch', batch_nb, '(', batches, ')')\n",
    "\n",
    "                        autoencoder.fit(x_train_down2, x_train_n2,\n",
    "                            epochs=ep,\n",
    "                            batch_size=10,\n",
    "                            shuffle=True,\n",
    "                            validation_split=0.15)\n",
    "                    \n",
    "                        x_train_n = []\n",
    "                        x_train_down = []\n",
    "                    \n",
    "                        batch = 0\n",
    "\n",
    "    return x_train_n2, x_train_down2"
   ]
  },
  {
   "cell_type": "code",
   "execution_count": null,
   "metadata": {},
   "outputs": [],
   "source": []
  },
  {
   "cell_type": "markdown",
   "metadata": {},
   "source": [
    "## Task 6: Load the Dataset and Pre-trained Model"
   ]
  },
  {
   "cell_type": "code",
   "execution_count": null,
   "metadata": {},
   "outputs": [],
   "source": []
  },
  {
   "cell_type": "code",
   "execution_count": null,
   "metadata": {},
   "outputs": [],
   "source": []
  },
  {
   "cell_type": "markdown",
   "metadata": {},
   "source": [
    "## Task 7: Model Predictions and Visualizing the Results"
   ]
  },
  {
   "cell_type": "code",
   "execution_count": null,
   "metadata": {},
   "outputs": [],
   "source": []
  },
  {
   "cell_type": "code",
   "execution_count": null,
   "metadata": {},
   "outputs": [],
   "source": []
  },
  {
   "cell_type": "code",
   "execution_count": null,
   "metadata": {},
   "outputs": [],
   "source": []
  },
  {
   "cell_type": "code",
   "execution_count": null,
   "metadata": {},
   "outputs": [],
   "source": []
  },
  {
   "cell_type": "code",
   "execution_count": null,
   "metadata": {},
   "outputs": [],
   "source": []
  },
  {
   "cell_type": "code",
   "execution_count": null,
   "metadata": {},
   "outputs": [],
   "source": []
  },
  {
   "cell_type": "code",
   "execution_count": null,
   "metadata": {},
   "outputs": [],
   "source": []
  }
 ],
 "metadata": {
  "kernelspec": {
   "display_name": "Python 3.8.2 64-bit",
   "language": "python",
   "name": "python_defaultSpec_1599141752630"
  },
  "language_info": {
   "codemirror_mode": {
    "name": "ipython",
    "version": 2
   },
   "file_extension": ".py",
   "mimetype": "text/x-python",
   "name": "python",
   "nbconvert_exporter": "python",
   "pygments_lexer": "ipython2",
   "version": "3.8.2-final"
  }
 },
 "nbformat": 4,
 "nbformat_minor": 2
}